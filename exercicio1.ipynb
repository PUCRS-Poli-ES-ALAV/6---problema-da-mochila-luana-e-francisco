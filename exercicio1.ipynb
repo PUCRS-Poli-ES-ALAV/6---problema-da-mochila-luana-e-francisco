{
 "cells": [
  {
   "cell_type": "markdown",
   "metadata": {},
   "source": [
    "### Implemente os algortimos de Fibonnaci\n"
   ]
  },
  {
   "cell_type": "code",
   "execution_count": 9,
   "metadata": {},
   "outputs": [],
   "source": [
    "import time"
   ]
  },
  {
   "cell_type": "code",
   "execution_count": 10,
   "metadata": {},
   "outputs": [],
   "source": [
    "def fibo_rec(n):\n",
    "    global contador_recursivo, instrucoes_recursivo\n",
    "    contador_recursivo += 1\n",
    "    instrucoes_recursivo += 1\n",
    "    if n <= 1:\n",
    "        instrucoes_recursivo += 1\n",
    "        return n\n",
    "    else:\n",
    "        instrucoes_recursivo += 2\n",
    "        a = fibo_rec(n - 1)\n",
    "        b = fibo_rec(n - 2)\n",
    "        instrucoes_recursivo += 1\n",
    "        return a + b"
   ]
  },
  {
   "cell_type": "code",
   "execution_count": 11,
   "metadata": {},
   "outputs": [],
   "source": [
    "def fibo(n):\n",
    "    global contador_iterativo, instrucoes_iterativo\n",
    "    f = [0] * (n + 1)\n",
    "    instrucoes_iterativo += 1\n",
    "    f[0] = 0\n",
    "    instrucoes_iterativo += 1\n",
    "    if n > 0:\n",
    "        f[1] = 1\n",
    "        instrucoes_iterativo += 1\n",
    "        contador_iterativo += 1\n",
    "    for i in range(2, n + 1):\n",
    "        f[i] = f[i - 1] + f[i - 2]\n",
    "        contador_iterativo += 1\n",
    "        instrucoes_iterativo += 2\n",
    "    return f[n]"
   ]
  },
  {
   "cell_type": "code",
   "execution_count": 12,
   "metadata": {},
   "outputs": [],
   "source": [
    "def lookup_fibo(f, n):\n",
    "    global contador_memoizacao, instrucoes_memoizacao\n",
    "    contador_memoizacao += 1\n",
    "    instrucoes_memoizacao += 1\n",
    "    if f[n] >= 0:\n",
    "        instrucoes_memoizacao += 1\n",
    "        return f[n]\n",
    "    if n <= 1:\n",
    "        f[n] = n\n",
    "        instrucoes_memoizacao += 1\n",
    "    else:\n",
    "        instrucoes_memoizacao += 2\n",
    "        f[n] = lookup_fibo(f, n - 1) + lookup_fibo(f, n - 2)\n",
    "        instrucoes_memoizacao += 1\n",
    "    return f[n]\n",
    "\n",
    "def memoized_fibo(n):\n",
    "    global contador_memoizacao, instrucoes_memoizacao\n",
    "    contador_memoizacao = 0\n",
    "    instrucoes_memoizacao = 0\n",
    "    f = [-1] * (n + 1)\n",
    "    resultado = lookup_fibo(f, n)\n",
    "    return resultado"
   ]
  },
  {
   "cell_type": "markdown",
   "metadata": {},
   "source": [
    "### Testando\n",
    "teste todos para os inteiros 4, 8, 16, 32;\n",
    "\n",
    "teste os dois últimos também para os inteiro 128, 1000 e 10.000."
   ]
  },
  {
   "cell_type": "code",
   "execution_count": null,
   "metadata": {},
   "outputs": [
    {
     "name": "stdout",
     "output_type": "stream",
     "text": [
      "[Recursivo] n=4 -> Resultado: 3, Tempo: 0.000000s, Instruções: 26, Iterações: 9\n",
      "[Recursivo] n=8 -> Resultado: 21, Tempo: 0.000000s, Instruções: 200, Iterações: 67\n",
      "[Recursivo] n=16 -> Resultado: 987, Tempo: 0.002023s, Instruções: 9578, Iterações: 3193\n",
      "[Recursivo] n=32 -> Resultado: 2178309, Tempo: 2.880568s, Instruções: 21147464, Iterações: 7049155\n",
      "\n",
      "[Iterativo ] n=4 -> Resultado: 3, Tempo: 0.000000s, Instruções: 9, Iterações: 4\n",
      "[Memoizado ] n=4 -> Resultado: 3, Tempo: 0.000000s, Instruções: 20, Iterações: 7\n",
      "--------------------------------------------------------------------------------\n",
      "[Iterativo ] n=8 -> Resultado: 21, Tempo: 0.000000s, Instruções: 17, Iterações: 8\n",
      "[Memoizado ] n=8 -> Resultado: 21, Tempo: 0.000000s, Instruções: 44, Iterações: 15\n",
      "--------------------------------------------------------------------------------\n",
      "[Iterativo ] n=16 -> Resultado: 987, Tempo: 0.000000s, Instruções: 33, Iterações: 16\n",
      "[Memoizado ] n=16 -> Resultado: 987, Tempo: 0.000000s, Instruções: 92, Iterações: 31\n",
      "--------------------------------------------------------------------------------\n",
      "[Iterativo ] n=32 -> Resultado: 2178309, Tempo: 0.000000s, Instruções: 65, Iterações: 32\n",
      "[Memoizado ] n=32 -> Resultado: 2178309, Tempo: 0.000000s, Instruções: 188, Iterações: 63\n",
      "--------------------------------------------------------------------------------\n",
      "[Iterativo ] n=128 -> Resultado: 251728825683549488150424261, Tempo: 0.000000s, Instruções: 257, Iterações: 128\n",
      "[Memoizado ] n=128 -> Resultado: 251728825683549488150424261, Tempo: 0.000000s, Instruções: 764, Iterações: 255\n",
      "--------------------------------------------------------------------------------\n",
      "[Iterativo ] n=1000 -> Resultado: 43466557686937456435688527675040625802564660517371780402481729089536555417949051890403879840079255169295922593080322634775209689623239873322471161642996440906533187938298969649928516003704476137795166849228875, Tempo: 0.001015s, Instruções: 2001, Iterações: 1000\n",
      "[Memoizado ] n=1000 -> Resultado: 43466557686937456435688527675040625802564660517371780402481729089536555417949051890403879840079255169295922593080322634775209689623239873322471161642996440906533187938298969649928516003704476137795166849228875, Tempo: 0.000984s, Instruções: 5996, Iterações: 1999\n",
      "--------------------------------------------------------------------------------\n",
      "[Iterativo ] n=10000 -> Resultado: 33644764876431783266621612005107543310302148460680063906564769974680081442166662368155595513633734025582065332680836159373734790483865268263040892463056431887354544369559827491606602099884183933864652731300088830269235673613135117579297437854413752130520504347701602264758318906527890855154366159582987279682987510631200575428783453215515103870818298969791613127856265033195487140214287532698187962046936097879900350962302291026368131493195275630227837628441540360584402572114334961180023091208287046088923962328835461505776583271252546093591128203925285393434620904245248929403901706233888991085841065183173360437470737908552631764325733993712871937587746897479926305837065742830161637408969178426378624212835258112820516370298089332099905707920064367426202389783111470054074998459250360633560933883831923386783056136435351892133279732908133732642652633989763922723407882928177953580570993691049175470808931841056146322338217465637321248226383092103297701648054726243842374862411453093812206564914032751086643394517512161526545361333111314042436854805106765843493523836959653428071768775328348234345557366719731392746273629108210679280784718035329131176778924659089938635459327894523777674406192240337638674004021330343297496902028328145933418826817683893072003634795623117103101291953169794607632737589253530772552375943788434504067715555779056450443016640119462580972216729758615026968443146952034614932291105970676243268515992834709891284706740862008587135016260312071903172086094081298321581077282076353186624611278245537208532365305775956430072517744315051539600905168603220349163222640885248852433158051534849622434848299380905070483482449327453732624567755879089187190803662058009594743150052402532709746995318770724376825907419939632265984147498193609285223945039707165443156421328157688908058783183404917434556270520223564846495196112460268313970975069382648706613264507665074611512677522748621598642530711298441182622661057163515069260029861704945425047491378115154139941550671256271197133252763631939606902895650288268608362241082050562430701794976171121233066073310059947366875, Tempo: 0.005527s, Instruções: 20001, Iterações: 10000\n"
     ]
    },
    {
     "ename": "RecursionError",
     "evalue": "maximum recursion depth exceeded in comparison",
     "output_type": "error",
     "traceback": [
      "\u001b[1;31m---------------------------------------------------------------------------\u001b[0m",
      "\u001b[1;31mRecursionError\u001b[0m                            Traceback (most recent call last)",
      "Cell \u001b[1;32mIn[13], line 35\u001b[0m\n\u001b[0;32m     33\u001b[0m instrucoes_memoizacao \u001b[38;5;241m=\u001b[39m \u001b[38;5;241m0\u001b[39m\n\u001b[0;32m     34\u001b[0m inicio \u001b[38;5;241m=\u001b[39m time\u001b[38;5;241m.\u001b[39mtime()\n\u001b[1;32m---> 35\u001b[0m resultado \u001b[38;5;241m=\u001b[39m \u001b[43mmemoized_fibo\u001b[49m\u001b[43m(\u001b[49m\u001b[43mi\u001b[49m\u001b[43m)\u001b[49m\n\u001b[0;32m     36\u001b[0m fim \u001b[38;5;241m=\u001b[39m time\u001b[38;5;241m.\u001b[39mtime()\n\u001b[0;32m     37\u001b[0m \u001b[38;5;28mprint\u001b[39m(\u001b[38;5;124mf\u001b[39m\u001b[38;5;124m\"\u001b[39m\u001b[38;5;124m[Memoizado ] n=\u001b[39m\u001b[38;5;132;01m{\u001b[39;00mi\u001b[38;5;132;01m}\u001b[39;00m\u001b[38;5;124m -> Resultado: \u001b[39m\u001b[38;5;132;01m{\u001b[39;00mresultado\u001b[38;5;132;01m}\u001b[39;00m\u001b[38;5;124m, Tempo: \u001b[39m\u001b[38;5;132;01m{\u001b[39;00mfim\u001b[38;5;250m \u001b[39m\u001b[38;5;241m-\u001b[39m\u001b[38;5;250m \u001b[39minicio\u001b[38;5;132;01m:\u001b[39;00m\u001b[38;5;124m.6f\u001b[39m\u001b[38;5;132;01m}\u001b[39;00m\u001b[38;5;124ms, Instruções: \u001b[39m\u001b[38;5;132;01m{\u001b[39;00minstrucoes_memoizacao\u001b[38;5;132;01m}\u001b[39;00m\u001b[38;5;124m, Iterações: \u001b[39m\u001b[38;5;132;01m{\u001b[39;00mcontador_memoizacao\u001b[38;5;132;01m}\u001b[39;00m\u001b[38;5;124m\"\u001b[39m)\n",
      "Cell \u001b[1;32mIn[12], line 22\u001b[0m, in \u001b[0;36mmemoized_fibo\u001b[1;34m(n)\u001b[0m\n\u001b[0;32m     20\u001b[0m instrucoes_memoizacao \u001b[38;5;241m=\u001b[39m \u001b[38;5;241m0\u001b[39m\n\u001b[0;32m     21\u001b[0m f \u001b[38;5;241m=\u001b[39m [\u001b[38;5;241m-\u001b[39m\u001b[38;5;241m1\u001b[39m] \u001b[38;5;241m*\u001b[39m (n \u001b[38;5;241m+\u001b[39m \u001b[38;5;241m1\u001b[39m)\n\u001b[1;32m---> 22\u001b[0m resultado \u001b[38;5;241m=\u001b[39m \u001b[43mlookup_fibo\u001b[49m\u001b[43m(\u001b[49m\u001b[43mf\u001b[49m\u001b[43m,\u001b[49m\u001b[43m \u001b[49m\u001b[43mn\u001b[49m\u001b[43m)\u001b[49m\n\u001b[0;32m     23\u001b[0m \u001b[38;5;28;01mreturn\u001b[39;00m resultado\n",
      "Cell \u001b[1;32mIn[12], line 13\u001b[0m, in \u001b[0;36mlookup_fibo\u001b[1;34m(f, n)\u001b[0m\n\u001b[0;32m     11\u001b[0m \u001b[38;5;28;01melse\u001b[39;00m:\n\u001b[0;32m     12\u001b[0m     instrucoes_memoizacao \u001b[38;5;241m+\u001b[39m\u001b[38;5;241m=\u001b[39m \u001b[38;5;241m2\u001b[39m\n\u001b[1;32m---> 13\u001b[0m     f[n] \u001b[38;5;241m=\u001b[39m \u001b[43mlookup_fibo\u001b[49m\u001b[43m(\u001b[49m\u001b[43mf\u001b[49m\u001b[43m,\u001b[49m\u001b[43m \u001b[49m\u001b[43mn\u001b[49m\u001b[43m \u001b[49m\u001b[38;5;241;43m-\u001b[39;49m\u001b[43m \u001b[49m\u001b[38;5;241;43m1\u001b[39;49m\u001b[43m)\u001b[49m \u001b[38;5;241m+\u001b[39m lookup_fibo(f, n \u001b[38;5;241m-\u001b[39m \u001b[38;5;241m2\u001b[39m)\n\u001b[0;32m     14\u001b[0m     instrucoes_memoizacao \u001b[38;5;241m+\u001b[39m\u001b[38;5;241m=\u001b[39m \u001b[38;5;241m1\u001b[39m\n\u001b[0;32m     15\u001b[0m \u001b[38;5;28;01mreturn\u001b[39;00m f[n]\n",
      "Cell \u001b[1;32mIn[12], line 13\u001b[0m, in \u001b[0;36mlookup_fibo\u001b[1;34m(f, n)\u001b[0m\n\u001b[0;32m     11\u001b[0m \u001b[38;5;28;01melse\u001b[39;00m:\n\u001b[0;32m     12\u001b[0m     instrucoes_memoizacao \u001b[38;5;241m+\u001b[39m\u001b[38;5;241m=\u001b[39m \u001b[38;5;241m2\u001b[39m\n\u001b[1;32m---> 13\u001b[0m     f[n] \u001b[38;5;241m=\u001b[39m \u001b[43mlookup_fibo\u001b[49m\u001b[43m(\u001b[49m\u001b[43mf\u001b[49m\u001b[43m,\u001b[49m\u001b[43m \u001b[49m\u001b[43mn\u001b[49m\u001b[43m \u001b[49m\u001b[38;5;241;43m-\u001b[39;49m\u001b[43m \u001b[49m\u001b[38;5;241;43m1\u001b[39;49m\u001b[43m)\u001b[49m \u001b[38;5;241m+\u001b[39m lookup_fibo(f, n \u001b[38;5;241m-\u001b[39m \u001b[38;5;241m2\u001b[39m)\n\u001b[0;32m     14\u001b[0m     instrucoes_memoizacao \u001b[38;5;241m+\u001b[39m\u001b[38;5;241m=\u001b[39m \u001b[38;5;241m1\u001b[39m\n\u001b[0;32m     15\u001b[0m \u001b[38;5;28;01mreturn\u001b[39;00m f[n]\n",
      "    \u001b[1;31m[... skipping similar frames: lookup_fibo at line 13 (2967 times)]\u001b[0m\n",
      "Cell \u001b[1;32mIn[12], line 13\u001b[0m, in \u001b[0;36mlookup_fibo\u001b[1;34m(f, n)\u001b[0m\n\u001b[0;32m     11\u001b[0m \u001b[38;5;28;01melse\u001b[39;00m:\n\u001b[0;32m     12\u001b[0m     instrucoes_memoizacao \u001b[38;5;241m+\u001b[39m\u001b[38;5;241m=\u001b[39m \u001b[38;5;241m2\u001b[39m\n\u001b[1;32m---> 13\u001b[0m     f[n] \u001b[38;5;241m=\u001b[39m \u001b[43mlookup_fibo\u001b[49m\u001b[43m(\u001b[49m\u001b[43mf\u001b[49m\u001b[43m,\u001b[49m\u001b[43m \u001b[49m\u001b[43mn\u001b[49m\u001b[43m \u001b[49m\u001b[38;5;241;43m-\u001b[39;49m\u001b[43m \u001b[49m\u001b[38;5;241;43m1\u001b[39;49m\u001b[43m)\u001b[49m \u001b[38;5;241m+\u001b[39m lookup_fibo(f, n \u001b[38;5;241m-\u001b[39m \u001b[38;5;241m2\u001b[39m)\n\u001b[0;32m     14\u001b[0m     instrucoes_memoizacao \u001b[38;5;241m+\u001b[39m\u001b[38;5;241m=\u001b[39m \u001b[38;5;241m1\u001b[39m\n\u001b[0;32m     15\u001b[0m \u001b[38;5;28;01mreturn\u001b[39;00m f[n]\n",
      "Cell \u001b[1;32mIn[12], line 5\u001b[0m, in \u001b[0;36mlookup_fibo\u001b[1;34m(f, n)\u001b[0m\n\u001b[0;32m      3\u001b[0m contador_memoizacao \u001b[38;5;241m+\u001b[39m\u001b[38;5;241m=\u001b[39m \u001b[38;5;241m1\u001b[39m\n\u001b[0;32m      4\u001b[0m instrucoes_memoizacao \u001b[38;5;241m+\u001b[39m\u001b[38;5;241m=\u001b[39m \u001b[38;5;241m1\u001b[39m\n\u001b[1;32m----> 5\u001b[0m \u001b[38;5;28;01mif\u001b[39;00m \u001b[43mf\u001b[49m\u001b[43m[\u001b[49m\u001b[43mn\u001b[49m\u001b[43m]\u001b[49m\u001b[43m \u001b[49m\u001b[38;5;241;43m>\u001b[39;49m\u001b[38;5;241;43m=\u001b[39;49m\u001b[43m \u001b[49m\u001b[38;5;241;43m0\u001b[39;49m:\n\u001b[0;32m      6\u001b[0m     instrucoes_memoizacao \u001b[38;5;241m+\u001b[39m\u001b[38;5;241m=\u001b[39m \u001b[38;5;241m1\u001b[39m\n\u001b[0;32m      7\u001b[0m     \u001b[38;5;28;01mreturn\u001b[39;00m f[n]\n",
      "\u001b[1;31mRecursionError\u001b[0m: maximum recursion depth exceeded in comparison"
     ]
    }
   ],
   "source": [
    "array_inteiros = [4,8,16,32]\n",
    "array_inteiros_dois_ultimos = [4,8,16,32,128,1000,10000]\n",
    "\n",
    "global contador_memoizacao\n",
    "global contador_recursivo\n",
    "global contador_iterativo\n",
    "\n",
    "global instrucoes_memoizacao\n",
    "global instrucoes_iterativo\n",
    "global instrucoes_recursivo\n",
    "\n",
    "for i in array_inteiros:\n",
    "    contador_recursivo = 0\n",
    "    instrucoes_recursivo = 0\n",
    "    inicio = time.time()\n",
    "    resultado = fibo_rec(i)\n",
    "    fim = time.time()\n",
    "    print(f\"[Recursivo] n={i} -> Resultado: {resultado}, Tempo: {fim - inicio:.6f}s, Instruções: {instrucoes_recursivo}, Iterações: {contador_recursivo}\")\n",
    "\n",
    "print(\"\")\n",
    "\n",
    "for i in array_inteiros_dois_ultimos:\n",
    "    contador_iterativo = 0\n",
    "    instrucoes_iterativo = 0\n",
    "    inicio = time.time()\n",
    "    resultado = fibo(i)\n",
    "    fim = time.time()\n",
    "    print(f\"[Iterativo ] n={i} -> Resultado: {resultado}, Tempo: {fim - inicio:.6f}s, Instruções: {instrucoes_iterativo}, Iterações: {contador_iterativo}\")\n",
    "\n",
    "\n",
    "    contador_memoizacao = 0\n",
    "    instrucoes_memoizacao = 0\n",
    "    inicio = time.time()\n",
    "    resultado = memoized_fibo(i)\n",
    "    fim = time.time()\n",
    "    print(f\"[Memoizado ] n={i} -> Resultado: {resultado}, Tempo: {fim - inicio:.6f}s, Instruções: {instrucoes_memoizacao}, Iterações: {contador_memoizacao}\")\n",
    "    print(\"-\" * 80)\n"
   ]
  },
  {
   "cell_type": "markdown",
   "metadata": {},
   "source": [
    "obs: memoized_fibo com n=10000 não conseguiu ser executado"
   ]
  }
 ],
 "metadata": {
  "kernelspec": {
   "display_name": ".conda",
   "language": "python",
   "name": "python3"
  },
  "language_info": {
   "codemirror_mode": {
    "name": "ipython",
    "version": 3
   },
   "file_extension": ".py",
   "mimetype": "text/x-python",
   "name": "python",
   "nbconvert_exporter": "python",
   "pygments_lexer": "ipython3",
   "version": "3.10.13"
  }
 },
 "nbformat": 4,
 "nbformat_minor": 2
}
