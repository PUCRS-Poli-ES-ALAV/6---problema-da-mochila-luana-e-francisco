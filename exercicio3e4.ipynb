{
 "cells": [
  {
   "cell_type": "code",
   "execution_count": null,
   "metadata": {},
   "outputs": [],
   "source": [
    "import time\n",
    "#N = Número de itens\n",
    "#C = Capacidade da mochila"
   ]
  },
  {
   "cell_type": "code",
   "execution_count": null,
   "metadata": {},
   "outputs": [],
   "source": [
    "def mochila_bruta(N, C, itens):\n",
    "\n",
    "    def comparador(index, capacidade_restante):\n",
    "        nonlocal iteracoes\n",
    "        iteracoes += 1\n",
    "\n",
    "        if index == N or capacidade_restante == 0:\n",
    "            return 0\n",
    "\n",
    "        peso, valor = itens[index]\n",
    "        nao_coloca = comparador(index + 1, capacidade_restante)\n",
    "        coloca = 0\n",
    "\n",
    "        if peso <= capacidade_restante:\n",
    "            coloca = valor + comparador(index + 1, capacidade_restante - peso)\n",
    "\n",
    "        return max(nao_coloca, coloca)\n",
    "\n",
    "    iteracoes = 0\n",
    "    valor_maximo = comparador(0, C)  # Chama a função recursiva\n",
    "    return valor_maximo, iteracoes"
   ]
  },
  {
   "cell_type": "code",
   "execution_count": null,
   "metadata": {},
   "outputs": [],
   "source": [
    "def mochila_dinamica(N, C, itens):\n",
    "    \n",
    "    maxTab = [[0 for _ in range(C + 1)] for _ in range(N + 1)]\n",
    "    iteracoes = 0\n",
    "\n",
    "    for i in range(1, N + 1):\n",
    "        for j in range(1, C + 1):\n",
    "            iteracoes += 1 \n",
    "            peso, valor = itens[i - 1] \n",
    "            if peso <= j: \n",
    "                maxTab[i][j] = max(maxTab[i - 1][j], valor + maxTab[i - 1][j - peso])\n",
    "            else:\n",
    "                maxTab[i][j] = maxTab[i - 1][j]\n",
    "\n",
    "    return maxTab[N][C], iteracoes"
   ]
  }
 ],
 "metadata": {
  "kernelspec": {
   "display_name": "Python 3",
   "language": "python",
   "name": "python3"
  },
  "language_info": {
   "name": "python",
   "version": "3.12.5"
  }
 },
 "nbformat": 4,
 "nbformat_minor": 2
}
