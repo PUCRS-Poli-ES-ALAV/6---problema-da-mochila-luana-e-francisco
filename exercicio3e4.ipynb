{
 "cells": [
  {
   "cell_type": "code",
   "execution_count": 8,
   "metadata": {},
   "outputs": [],
   "source": [
    "import time\n",
    "#N = Número de itens\n",
    "#C = Capacidade da mochila"
   ]
  },
  {
   "cell_type": "code",
   "execution_count": 2,
   "metadata": {},
   "outputs": [],
   "source": [
    "#3\n",
    "\n",
    "def mochila_bruta(N, C, itens):\n",
    "\n",
    "    def comparador(index, capacidade_restante):\n",
    "        nonlocal iteracoes\n",
    "        iteracoes += 1\n",
    "\n",
    "        if index == N or capacidade_restante == 0:\n",
    "            return 0\n",
    "\n",
    "        peso, valor = itens[index]\n",
    "        nao_coloca = comparador(index + 1, capacidade_restante)\n",
    "        coloca = 0\n",
    "\n",
    "        if peso <= capacidade_restante:\n",
    "            coloca = valor + comparador(index + 1, capacidade_restante - peso)\n",
    "\n",
    "        return max(nao_coloca, coloca)\n",
    "\n",
    "    iteracoes = 0\n",
    "    valor_maximo = comparador(0, C)\n",
    "    return valor_maximo, iteracoes"
   ]
  },
  {
   "cell_type": "code",
   "execution_count": 5,
   "metadata": {},
   "outputs": [],
   "source": [
    "#4\n",
    "\n",
    "def mochila_dinamica(N, C, itens):\n",
    "    \n",
    "    maxTab = [[0 for _ in range(C + 1)] for _ in range(N + 1)]\n",
    "    iteracoes = 0\n",
    "\n",
    "    for i in range(1, N + 1):\n",
    "        for j in range(1, C + 1):\n",
    "            iteracoes += 1 \n",
    "            peso, valor = itens[i - 1] \n",
    "            if peso <= j: \n",
    "                maxTab[i][j] = max(maxTab[i - 1][j], valor + maxTab[i - 1][j - peso])\n",
    "            else:\n",
    "                maxTab[i][j] = maxTab[i - 1][j]\n",
    "\n",
    "    return maxTab[N][C], iteracoes"
   ]
  },
  {
   "cell_type": "code",
   "execution_count": 10,
   "metadata": {},
   "outputs": [
    {
     "name": "stdout",
     "output_type": "stream",
     "text": [
      "\n",
      "Caso 1: Capacidade 165\n",
      "Capacidade: 165\n",
      "Pesos: [23, 31, 29, 44, 53, 38, 63, 85, 89, 82]\n",
      "Valores: [92, 57, 49, 68, 60, 43, 67, 84, 87, 72]\n",
      "[Bruta     ] -> Valor máximo: 309, Tempo: 0.001006s, Iterações: 565\n",
      "[Dinâmica  ] -> Valor máximo: 309, Tempo: 0.000000s, Iterações: 1650\n",
      "\n",
      "Caso 2: Capacidade 190\n",
      "Capacidade: 190\n",
      "Pesos: [56, 59, 80, 64, 75, 17]\n",
      "Valores: [50, 50, 64, 46, 50, 5]\n",
      "[Bruta     ] -> Valor máximo: 150, Tempo: 0.000000s, Iterações: 77\n",
      "[Dinâmica  ] -> Valor máximo: 150, Tempo: 0.000000s, Iterações: 1140\n"
     ]
    }
   ],
   "source": [
    "#5\n",
    "\n",
    "casos = [\n",
    "    {\n",
    "        \"capacidade\": 165,\n",
    "        \"pesos\": [23, 31, 29, 44, 53, 38, 63, 85, 89, 82],\n",
    "        \"valores\": [92, 57, 49, 68, 60, 43, 67, 84, 87, 72],\n",
    "        \"descricao\": \"Caso 1: Capacidade 165\"\n",
    "    },\n",
    "    {\n",
    "        \"capacidade\": 190,\n",
    "        \"pesos\": [56, 59, 80, 64, 75, 17],\n",
    "        \"valores\": [50, 50, 64, 46, 50, 5],\n",
    "        \"descricao\": \"Caso 2: Capacidade 190\"\n",
    "    }\n",
    "]\n",
    "\n",
    "for caso in casos:\n",
    "    capacidade = caso[\"capacidade\"]\n",
    "    pesos = caso[\"pesos\"]\n",
    "    valores = caso[\"valores\"]\n",
    "    itens = list(zip(pesos, valores))\n",
    "    descricao = caso[\"descricao\"]\n",
    "\n",
    "    print(f\"\\n{descricao}\")\n",
    "    print(f\"Capacidade: {capacidade}\")\n",
    "    print(f\"Pesos: {pesos}\")\n",
    "    print(f\"Valores: {valores}\")\n",
    "\n",
    "\n",
    "    inicio = time.time()\n",
    "    valor_bruta, iteracoes_bruta = mochila_bruta(len(itens), capacidade, itens)\n",
    "    fim = time.time()\n",
    "    print(f\"[Bruta     ] -> Valor máximo: {valor_bruta}, Tempo: {fim - inicio:.6f}s, Iterações: {iteracoes_bruta}\")\n",
    "\n",
    "    inicio = time.time()\n",
    "    valor_dinamica, iteracoes_dinamica = mochila_dinamica(len(itens), capacidade, itens)\n",
    "    fim = time.time()\n",
    "    print(f\"[Dinâmica  ] -> Valor máximo: {valor_dinamica}, Tempo: {fim - inicio:.6f}s, Iterações: {iteracoes_dinamica}\")"
   ]
  }
 ],
 "metadata": {
  "kernelspec": {
   "display_name": "Python 3",
   "language": "python",
   "name": "python3"
  },
  "language_info": {
   "codemirror_mode": {
    "name": "ipython",
    "version": 3
   },
   "file_extension": ".py",
   "mimetype": "text/x-python",
   "name": "python",
   "nbconvert_exporter": "python",
   "pygments_lexer": "ipython3",
   "version": "3.12.5"
  }
 },
 "nbformat": 4,
 "nbformat_minor": 2
}
